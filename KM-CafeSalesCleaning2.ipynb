{
 "cells": [
  {
   "cell_type": "code",
   "execution_count": 3,
   "id": "daee1a37-c7e3-42fd-952a-fd0436ad836f",
   "metadata": {},
   "outputs": [
    {
     "name": "stdout",
     "output_type": "stream",
     "text": [
      "     Transaction ID      Item  Quantity  Price Per Unit  Total Spent  \\\n",
      "0       TXN_1961373    Coffee       2.0             2.0          4.0   \n",
      "1       TXN_4977031      Cake       4.0             3.0         12.0   \n",
      "2       TXN_4271903    Cookie       4.0             1.0          NaN   \n",
      "3       TXN_7034554     Salad       2.0             5.0         10.0   \n",
      "4       TXN_3160411    Coffee       2.0             2.0          4.0   \n",
      "...             ...       ...       ...             ...          ...   \n",
      "9995    TXN_7672686    Coffee       2.0             2.0          4.0   \n",
      "9996    TXN_9659401       NaN       3.0             NaN          3.0   \n",
      "9997    TXN_5255387    Coffee       4.0             2.0          8.0   \n",
      "9998    TXN_7695629    Cookie       3.0             NaN          3.0   \n",
      "9999    TXN_6170729  Sandwich       3.0             4.0         12.0   \n",
      "\n",
      "      Payment Method  Location Transaction Date  \n",
      "0        Credit Card  Takeaway       08/09/2023  \n",
      "1               Cash  In-store       16/05/2023  \n",
      "2        Credit Card  In-store       19/07/2023  \n",
      "3                NaN       NaN       27/04/2023  \n",
      "4     Digital Wallet  In-store       11/06/2023  \n",
      "...              ...       ...              ...  \n",
      "9995             NaN       NaN       30/08/2023  \n",
      "9996  Digital Wallet       NaN       02/06/2023  \n",
      "9997  Digital Wallet       NaN       02/03/2023  \n",
      "9998  Digital Wallet       NaN       02/12/2023  \n",
      "9999            Cash  In-store       07/11/2023  \n",
      "\n",
      "[10000 rows x 8 columns]\n"
     ]
    }
   ],
   "source": [
    "import pandas as pd\n",
    "\n",
    "# Read the CSV file into a DataFrame\n",
    "df = pd.read_csv('Cafe_sales.csv')\n",
    "\n",
    "# Display the DataFrame\n",
    "print(df)"
   ]
  },
  {
   "cell_type": "code",
   "execution_count": 4,
   "id": "b2d32c65-9eec-4e77-bd4a-d68d2c686f23",
   "metadata": {},
   "outputs": [
    {
     "name": "stdout",
     "output_type": "stream",
     "text": [
      "Transaction ID         0\n",
      "Item                 969\n",
      "Quantity             479\n",
      "Price Per Unit       533\n",
      "Total Spent          502\n",
      "Payment Method      3178\n",
      "Location            3961\n",
      "Transaction Date     460\n",
      "dtype: int64\n"
     ]
    }
   ],
   "source": [
    "# Count the blank values per column\n",
    "blank_values = df.isnull().sum()\n",
    "\n",
    "# Display the count of blank values per column\n",
    "print(blank_values)"
   ]
  },
  {
   "cell_type": "code",
   "execution_count": 5,
   "id": "2feb54fd-839b-4e5a-8762-08269706354a",
   "metadata": {},
   "outputs": [
    {
     "name": "stdout",
     "output_type": "stream",
     "text": [
      "     Transaction ID      Item  Quantity  Price Per Unit  Total Spent  \\\n",
      "0       TXN_1961373    Coffee       2.0             2.0          4.0   \n",
      "1       TXN_4977031      Cake       4.0             3.0         12.0   \n",
      "2       TXN_4271903    Cookie       4.0             1.0          NaN   \n",
      "4       TXN_3160411    Coffee       2.0             2.0          4.0   \n",
      "5       TXN_2602893  Smoothie       5.0             4.0         20.0   \n",
      "...             ...       ...       ...             ...          ...   \n",
      "9993    TXN_4766549  Smoothie       2.0             4.0          NaN   \n",
      "9996    TXN_9659401       NaN       3.0             NaN          3.0   \n",
      "9997    TXN_5255387    Coffee       4.0             2.0          8.0   \n",
      "9998    TXN_7695629    Cookie       3.0             NaN          3.0   \n",
      "9999    TXN_6170729  Sandwich       3.0             4.0         12.0   \n",
      "\n",
      "      Payment Method  Location Transaction Date  \n",
      "0        Credit Card  Takeaway       08/09/2023  \n",
      "1               Cash  In-store       16/05/2023  \n",
      "2        Credit Card  In-store       19/07/2023  \n",
      "4     Digital Wallet  In-store       11/06/2023  \n",
      "5        Credit Card       NaN       31/03/2023  \n",
      "...              ...       ...              ...  \n",
      "9993            Cash       NaN       20/10/2023  \n",
      "9996  Digital Wallet       NaN       02/06/2023  \n",
      "9997  Digital Wallet       NaN       02/03/2023  \n",
      "9998  Digital Wallet       NaN       02/12/2023  \n",
      "9999            Cash  In-store       07/11/2023  \n",
      "\n",
      "[6822 rows x 8 columns]\n"
     ]
    }
   ],
   "source": [
    "# Remove rows with blank values in the 'Payment Method' column\n",
    "df_cleaned = df.dropna(subset=['Payment Method'])\n",
    "\n",
    "# Display the DataFrame after removing rows with blank values in the 'Payment Method' column\n",
    "print(df_cleaned)"
   ]
  },
  {
   "cell_type": "code",
   "execution_count": 6,
   "id": "239ecafa-9edd-4a10-a263-5019c22b67f9",
   "metadata": {},
   "outputs": [
    {
     "name": "stdout",
     "output_type": "stream",
     "text": [
      "     Transaction ID      Item  Quantity  Price Per Unit  Total Spent  \\\n",
      "0       TXN_1961373    Coffee       2.0             2.0          4.0   \n",
      "1       TXN_4977031      Cake       4.0             3.0         12.0   \n",
      "2       TXN_4271903    Cookie       4.0             1.0          NaN   \n",
      "3       TXN_7034554     Salad       2.0             5.0         10.0   \n",
      "4       TXN_3160411    Coffee       2.0             2.0          4.0   \n",
      "...             ...       ...       ...             ...          ...   \n",
      "9995    TXN_7672686    Coffee       2.0             2.0          4.0   \n",
      "9996    TXN_9659401       NaN       3.0             NaN          3.0   \n",
      "9997    TXN_5255387    Coffee       4.0             2.0          8.0   \n",
      "9998    TXN_7695629    Cookie       3.0             NaN          3.0   \n",
      "9999    TXN_6170729  Sandwich       3.0             4.0         12.0   \n",
      "\n",
      "      Payment Method Payment_Method Transaction Date  \n",
      "0        Credit Card       Takeaway       08/09/2023  \n",
      "1               Cash       In-store       16/05/2023  \n",
      "2        Credit Card       In-store       19/07/2023  \n",
      "3                NaN            NaN       27/04/2023  \n",
      "4     Digital Wallet       In-store       11/06/2023  \n",
      "...              ...            ...              ...  \n",
      "9995             NaN            NaN       30/08/2023  \n",
      "9996  Digital Wallet            NaN       02/06/2023  \n",
      "9997  Digital Wallet            NaN       02/03/2023  \n",
      "9998  Digital Wallet            NaN       02/12/2023  \n",
      "9999            Cash       In-store       07/11/2023  \n",
      "\n",
      "[10000 rows x 8 columns]\n"
     ]
    }
   ],
   "source": [
    "# Rename the 'Location' column to 'Payment_Method'\n",
    "df.rename(columns={'Location': 'Payment_Method'}, inplace=True)\n",
    "\n",
    "# Display the DataFrame with the updated column name\n",
    "print(df)"
   ]
  },
  {
   "cell_type": "code",
   "execution_count": 7,
   "id": "456f3d23-eedd-404e-b456-3bc0dcfcdfba",
   "metadata": {},
   "outputs": [
    {
     "name": "stdout",
     "output_type": "stream",
     "text": [
      "     Transaction ID      Item  Quantity  Price Per Unit  Total Spent  \\\n",
      "0       TXN_1961373    Coffee       2.0             2.0          4.0   \n",
      "1       TXN_4977031      Cake       4.0             3.0         12.0   \n",
      "2       TXN_4271903    Cookie       4.0             1.0          NaN   \n",
      "4       TXN_3160411    Coffee       2.0             2.0          4.0   \n",
      "6       TXN_4433211       NaN       3.0             3.0          9.0   \n",
      "...             ...       ...       ...             ...          ...   \n",
      "9984    TXN_3142496  Smoothie       NaN             4.0          4.0   \n",
      "9986    TXN_2858441  Sandwich       2.0             4.0          8.0   \n",
      "9991    TXN_3897619  Sandwich       3.0             4.0         12.0   \n",
      "9992    TXN_2739140  Smoothie       4.0             4.0         16.0   \n",
      "9999    TXN_6170729  Sandwich       3.0             4.0         12.0   \n",
      "\n",
      "      Payment Method Payment_Method Transaction Date  \n",
      "0        Credit Card       Takeaway       08/09/2023  \n",
      "1               Cash       In-store       16/05/2023  \n",
      "2        Credit Card       In-store       19/07/2023  \n",
      "4     Digital Wallet       In-store       11/06/2023  \n",
      "6                NaN       Takeaway       06/10/2023  \n",
      "...              ...            ...              ...  \n",
      "9984            Cash       Takeaway       27/07/2023  \n",
      "9986     Credit Card       In-store       14/12/2023  \n",
      "9991            Cash       Takeaway       24/02/2023  \n",
      "9992             NaN       In-store       05/07/2023  \n",
      "9999            Cash       In-store       07/11/2023  \n",
      "\n",
      "[6039 rows x 8 columns]\n"
     ]
    }
   ],
   "source": [
    "# Remove rows with blank values in the 'Payment_Method' column\n",
    "df_cleaned = df.dropna(subset=['Payment_Method'])\n",
    "\n",
    "# Display the DataFrame after removing rows with blank values in the 'Payment_Method' column\n",
    "print(df_cleaned)"
   ]
  },
  {
   "cell_type": "code",
   "execution_count": 8,
   "id": "3c6b6853-b389-4006-8b4f-da0cdb174e30",
   "metadata": {},
   "outputs": [
    {
     "name": "stdout",
     "output_type": "stream",
     "text": [
      "Blank values per column:\n",
      "Transaction ID         0\n",
      "Item                 591\n",
      "Quantity             291\n",
      "Price Per Unit       316\n",
      "Total Spent          298\n",
      "Payment Method      1884\n",
      "Payment_Method         0\n",
      "Transaction Date     278\n",
      "dtype: int64\n",
      "\n",
      "Total values per column:\n",
      "Transaction ID      6039\n",
      "Item                5448\n",
      "Quantity            5748\n",
      "Price Per Unit      5723\n",
      "Total Spent         5741\n",
      "Payment Method      4155\n",
      "Payment_Method      6039\n",
      "Transaction Date    5761\n",
      "dtype: int64\n"
     ]
    }
   ],
   "source": [
    "# Count the blank values per column in df_cleaned\n",
    "blank_values_cleaned = df_cleaned.isnull().sum()\n",
    "\n",
    "# Count the total values per column in df_cleaned\n",
    "total_values_cleaned = df_cleaned.count()\n",
    "\n",
    "# Display the count of blank values and total values per column in df_cleaned\n",
    "print(\"Blank values per column:\")\n",
    "print(blank_values_cleaned)\n",
    "print(\"\\nTotal values per column:\")\n",
    "print(total_values_cleaned)"
   ]
  },
  {
   "cell_type": "code",
   "execution_count": 10,
   "id": "0c8ea744-74ef-4789-9330-f9ba44c49e9e",
   "metadata": {},
   "outputs": [
    {
     "name": "stdout",
     "output_type": "stream",
     "text": [
      "     Transaction ID      Item  Quantity  Price Per Unit  Total Spent  \\\n",
      "0       TXN_1961373    Coffee       2.0             2.0          4.0   \n",
      "1       TXN_4977031      Cake       4.0             3.0         12.0   \n",
      "4       TXN_3160411    Coffee       2.0             2.0          4.0   \n",
      "6       TXN_4433211       NaN       3.0             3.0          9.0   \n",
      "8       TXN_4717867       NaN       5.0             3.0         15.0   \n",
      "...             ...       ...       ...             ...          ...   \n",
      "9984    TXN_3142496  Smoothie       NaN             4.0          4.0   \n",
      "9986    TXN_2858441  Sandwich       2.0             4.0          8.0   \n",
      "9991    TXN_3897619  Sandwich       3.0             4.0         12.0   \n",
      "9992    TXN_2739140  Smoothie       4.0             4.0         16.0   \n",
      "9999    TXN_6170729  Sandwich       3.0             4.0         12.0   \n",
      "\n",
      "      Payment Method Payment_Method Transaction Date  \n",
      "0        Credit Card       Takeaway       08/09/2023  \n",
      "1               Cash       In-store       16/05/2023  \n",
      "4     Digital Wallet       In-store       11/06/2023  \n",
      "6                NaN       Takeaway       06/10/2023  \n",
      "8                NaN       Takeaway       28/07/2023  \n",
      "...              ...            ...              ...  \n",
      "9984            Cash       Takeaway       27/07/2023  \n",
      "9986     Credit Card       In-store       14/12/2023  \n",
      "9991            Cash       Takeaway       24/02/2023  \n",
      "9992             NaN       In-store       05/07/2023  \n",
      "9999            Cash       In-store       07/11/2023  \n",
      "\n",
      "[5741 rows x 8 columns]\n"
     ]
    }
   ],
   "source": [
    "# Remove rows with blank values in the 'Total_Spent' column\n",
    "df_cleaned = df_cleaned.dropna(subset=['Total Spent'])\n",
    "\n",
    "# Display the DataFrame after removing rows with blank values in the 'Total_Spent' column\n",
    "print(df_cleaned)"
   ]
  },
  {
   "cell_type": "code",
   "execution_count": 12,
   "id": "cc1b0244-2a8f-453c-b97e-98c079e3d5a9",
   "metadata": {},
   "outputs": [
    {
     "data": {
      "image/png": "[encoded data removed]",
      "text/plain": [
       "<Figure size 800x600 with 1 Axes>"
      ]
     },
     "metadata": {},
     "output_type": "display_data"
    }
   ],
   "source": [
    "import matplotlib.pyplot as plt\n",
    "\n",
    "# Create a box plot for the 'Total Spent' column\n",
    "plt.figure(figsize=(8, 6))\n",
    "plt.boxplot(df_cleaned['Total Spent'])\n",
    "plt.title('Box Plot of Total Spent')\n",
    "plt.ylabel('Total Spent')\n",
    "plt.show()"
   ]
  },
  {
   "cell_type": "code",
   "execution_count": 14,
   "id": "44cef71d-c2bb-4964-8227-447b918f7f8a",
   "metadata": {},
   "outputs": [
    {
     "name": "stdout",
     "output_type": "stream",
     "text": [
      "Statistics for Total Spent:\n",
      "count    5741.000000\n",
      "mean        8.907072\n",
      "std         6.003101\n",
      "min         1.000000\n",
      "25%         4.000000\n",
      "50%         8.000000\n",
      "75%        12.000000\n",
      "max        25.000000\n",
      "Name: Total Spent, dtype: float64\n",
      "\n",
      "Average Total Spent: 8.91\n"
     ]
    }
   ],
   "source": [
    "# Calculate statistics for the 'Total Spent' column\n",
    "total_spent_stats = df_cleaned['Total Spent'].describe()\n",
    "\n",
    "# Calculate the average for the 'Total Spent' column\n",
    "total_spent_mean = df_cleaned['Total Spent'].mean()\n",
    "\n",
    "# Display the statistics and average for the 'Total Spent' column\n",
    "print(\"Statistics for Total Spent:\")\n",
    "print(total_spent_stats)\n",
    "print(\"\\nAverage Total Spent: {:.2f}\".format(total_spent_mean))"
   ]
  },
  {
   "cell_type": "code",
   "execution_count": null,
   "id": "572949a5-4359-4c03-99f7-c7d9d09aaba9",
   "metadata": {},
   "outputs": [],
   "source": []
  }
 ],
 "metadata": {
  "kernelspec": {
   "display_name": "Python 3 (ipykernel)",
   "language": "python",
   "name": "python3"
  },
  "language_info": {
   "codemirror_mode": {
    "name": "ipython",
    "version": 3
   },
   "file_extension": ".py",
   "mimetype": "text/x-python",
   "name": "python",
   "nbconvert_exporter": "python",
   "pygments_lexer": "ipython3",
   "version": "3.12.4"
  }
 },
 "nbformat": 4,
 "nbformat_minor": 5
}
