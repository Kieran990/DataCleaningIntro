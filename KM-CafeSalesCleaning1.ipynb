{
 "cells": [
  {
   "cell_type": "code",
   "execution_count": 1,
   "id": "daee1a37-c7e3-42fd-952a-fd0436ad836f",
   "metadata": {},
   "outputs": [
    {
     "name": "stdout",
     "output_type": "stream",
     "text": [
      "     Transaction ID      Item  Quantity  Price Per Unit  Total Spent  \\\n",
      "0       TXN_1961373    Coffee       2.0             2.0          4.0   \n",
      "1       TXN_4977031      Cake       4.0             3.0         12.0   \n",
      "2       TXN_4271903    Cookie       4.0             1.0          NaN   \n",
      "3       TXN_7034554     Salad       2.0             5.0         10.0   \n",
      "4       TXN_3160411    Coffee       2.0             2.0          4.0   \n",
      "...             ...       ...       ...             ...          ...   \n",
      "9995    TXN_7672686    Coffee       2.0             2.0          4.0   \n",
      "9996    TXN_9659401       NaN       3.0             NaN          3.0   \n",
      "9997    TXN_5255387    Coffee       4.0             2.0          8.0   \n",
      "9998    TXN_7695629    Cookie       3.0             NaN          3.0   \n",
      "9999    TXN_6170729  Sandwich       3.0             4.0         12.0   \n",
      "\n",
      "      Payment Method  Location Transaction Date  \n",
      "0        Credit Card  Takeaway       08/09/2023  \n",
      "1               Cash  In-store       16/05/2023  \n",
      "2        Credit Card  In-store       19/07/2023  \n",
      "3                NaN       NaN       27/04/2023  \n",
      "4     Digital Wallet  In-store       11/06/2023  \n",
      "...              ...       ...              ...  \n",
      "9995             NaN       NaN       30/08/2023  \n",
      "9996  Digital Wallet       NaN       02/06/2023  \n",
      "9997  Digital Wallet       NaN       02/03/2023  \n",
      "9998  Digital Wallet       NaN       02/12/2023  \n",
      "9999            Cash  In-store       07/11/2023  \n",
      "\n",
      "[10000 rows x 8 columns]\n"
     ]
    }
   ],
   "source": [
    "import pandas as pd\n",
    "\n",
    "# Read the CSV file into a DataFrame\n",
    "df = pd.read_csv('Cafe_sales.csv')\n",
    "\n",
    "# Display the DataFrame\n",
    "print(df)"
   ]
  },
  {
   "cell_type": "code",
   "execution_count": 2,
   "id": "b2d32c65-9eec-4e77-bd4a-d68d2c686f23",
   "metadata": {},
   "outputs": [
    {
     "name": "stdout",
     "output_type": "stream",
     "text": [
      "Transaction ID         0\n",
      "Item                 969\n",
      "Quantity             479\n",
      "Price Per Unit       533\n",
      "Total Spent          502\n",
      "Payment Method      3178\n",
      "Location            3961\n",
      "Transaction Date     460\n",
      "dtype: int64\n"
     ]
    }
   ],
   "source": [
    "# Count the blank values per column\n",
    "blank_values = df.isnull().sum()\n",
    "\n",
    "# Display the count of blank values per column\n",
    "print(blank_values)"
   ]
  },
  {
   "cell_type": "code",
   "execution_count": 3,
   "id": "2feb54fd-839b-4e5a-8762-08269706354a",
   "metadata": {},
   "outputs": [
    {
     "name": "stdout",
     "output_type": "stream",
     "text": [
      "     Transaction ID      Item  Quantity  Price Per Unit  Total Spent  \\\n",
      "0       TXN_1961373    Coffee       2.0             2.0          4.0   \n",
      "1       TXN_4977031      Cake       4.0             3.0         12.0   \n",
      "2       TXN_4271903    Cookie       4.0             1.0          NaN   \n",
      "4       TXN_3160411    Coffee       2.0             2.0          4.0   \n",
      "5       TXN_2602893  Smoothie       5.0             4.0         20.0   \n",
      "...             ...       ...       ...             ...          ...   \n",
      "9993    TXN_4766549  Smoothie       2.0             4.0          NaN   \n",
      "9996    TXN_9659401       NaN       3.0             NaN          3.0   \n",
      "9997    TXN_5255387    Coffee       4.0             2.0          8.0   \n",
      "9998    TXN_7695629    Cookie       3.0             NaN          3.0   \n",
      "9999    TXN_6170729  Sandwich       3.0             4.0         12.0   \n",
      "\n",
      "      Payment Method  Location Transaction Date  \n",
      "0        Credit Card  Takeaway       08/09/2023  \n",
      "1               Cash  In-store       16/05/2023  \n",
      "2        Credit Card  In-store       19/07/2023  \n",
      "4     Digital Wallet  In-store       11/06/2023  \n",
      "5        Credit Card       NaN       31/03/2023  \n",
      "...              ...       ...              ...  \n",
      "9993            Cash       NaN       20/10/2023  \n",
      "9996  Digital Wallet       NaN       02/06/2023  \n",
      "9997  Digital Wallet       NaN       02/03/2023  \n",
      "9998  Digital Wallet       NaN       02/12/2023  \n",
      "9999            Cash  In-store       07/11/2023  \n",
      "\n",
      "[6822 rows x 8 columns]\n"
     ]
    }
   ],
   "source": [
    "# Remove rows with blank values in the 'Payment Method' column\n",
    "df_cleaned = df.dropna(subset=['Payment Method'])\n",
    "\n",
    "# Display the DataFrame after removing rows with blank values in the 'Payment Method' column\n",
    "print(df_cleaned)"
   ]
  },
  {
   "cell_type": "code",
   "execution_count": null,
   "id": "239ecafa-9edd-4a10-a263-5019c22b67f9",
   "metadata": {},
   "outputs": [],
   "source": []
  }
 ],
 "metadata": {
  "kernelspec": {
   "display_name": "Python 3 (ipykernel)",
   "language": "python",
   "name": "python3"
  },
  "language_info": {
   "codemirror_mode": {
    "name": "ipython",
    "version": 3
   },
   "file_extension": ".py",
   "mimetype": "text/x-python",
   "name": "python",
   "nbconvert_exporter": "python",
   "pygments_lexer": "ipython3",
   "version": "3.12.4"
  }
 },
 "nbformat": 4,
 "nbformat_minor": 5
}
